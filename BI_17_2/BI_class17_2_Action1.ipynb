{
 "cells": [
  {
   "cell_type": "code",
   "execution_count": 2,
   "metadata": {},
   "outputs": [],
   "source": [
    "import os\n",
    "import datetime\n",
    "\n",
    "import numpy as np\n",
    "import pandas as pd\n",
    "import seaborn as sns\n",
    "import scipy.stats as stats\n",
    "from matplotlib import pyplot as plt\n",
    "from sklearn.preprocessing import LabelEncoder, StandardScaler\n",
    "from sklearn.metrics import mean_squared_error, median_absolute_error\n",
    "\n",
    "import tensorflow as tf\n",
    "from tensorflow.keras.models import Sequential, Model\n",
    "from tensorflow.keras.layers import Dense, Dropout, LSTM\n",
    "from tensorflow.keras.callbacks import EarlyStopping, ModelCheckpoint, ReduceLROnPlateau\n",
    "\n",
    "sns.set_style('darkgrid')\n",
    "sns.set_context('notebook')\n",
    "plt.rcParams['font.sans-serif'] = ['SimHei']\n",
    "plt.rcParams['axes.unicode_minus'] = False"
   ]
  },
  {
   "cell_type": "code",
   "execution_count": 3,
   "metadata": {
    "ExecuteTime": {
     "end_time": "2021-01-03T13:46:45.159040Z",
     "start_time": "2021-01-03T13:46:45.155049Z"
    }
   },
   "outputs": [],
   "source": [
    "# 数据加载\n",
    "def parse_date_fuc(x):\n",
    "    result = datetime.datetime.strptime(x, \"%Y %m %d %H\")\n",
    "    return result"
   ]
  },
  {
   "cell_type": "code",
   "execution_count": 4,
   "metadata": {
    "ExecuteTime": {
     "end_time": "2021-01-03T13:46:45.607833Z",
     "start_time": "2021-01-03T13:46:45.163409Z"
    }
   },
   "outputs": [],
   "source": [
    "df = pd.read_csv(\"F:/BI/第17周/L9/pm2.5/raw.csv\",\n",
    "                 index_col=0,\n",
    "                 parse_dates=[['year', 'month', 'day', 'hour']], # 组合4列，并将其解析为单个日期列\n",
    "                 date_parser=parse_date_fuc) # 解析日期"
   ]
  },
  {
   "cell_type": "code",
   "execution_count": 5,
   "metadata": {
    "ExecuteTime": {
     "end_time": "2021-01-03T13:46:45.633415Z",
     "start_time": "2021-01-03T13:46:45.610297Z"
    }
   },
   "outputs": [
    {
     "data": {
      "text/html": [
       "<div>\n",
       "<style scoped>\n",
       "    .dataframe tbody tr th:only-of-type {\n",
       "        vertical-align: middle;\n",
       "    }\n",
       "\n",
       "    .dataframe tbody tr th {\n",
       "        vertical-align: top;\n",
       "    }\n",
       "\n",
       "    .dataframe thead th {\n",
       "        text-align: right;\n",
       "    }\n",
       "</style>\n",
       "<table border=\"1\" class=\"dataframe\">\n",
       "  <thead>\n",
       "    <tr style=\"text-align: right;\">\n",
       "      <th></th>\n",
       "      <th>No</th>\n",
       "      <th>pm2.5</th>\n",
       "      <th>DEWP</th>\n",
       "      <th>TEMP</th>\n",
       "      <th>PRES</th>\n",
       "      <th>cbwd</th>\n",
       "      <th>Iws</th>\n",
       "      <th>Is</th>\n",
       "      <th>Ir</th>\n",
       "    </tr>\n",
       "    <tr>\n",
       "      <th>year_month_day_hour</th>\n",
       "      <th></th>\n",
       "      <th></th>\n",
       "      <th></th>\n",
       "      <th></th>\n",
       "      <th></th>\n",
       "      <th></th>\n",
       "      <th></th>\n",
       "      <th></th>\n",
       "      <th></th>\n",
       "    </tr>\n",
       "  </thead>\n",
       "  <tbody>\n",
       "    <tr>\n",
       "      <th>2010-01-01 00:00:00</th>\n",
       "      <td>1</td>\n",
       "      <td>NaN</td>\n",
       "      <td>-21</td>\n",
       "      <td>-11.0</td>\n",
       "      <td>1021.0</td>\n",
       "      <td>NW</td>\n",
       "      <td>1.79</td>\n",
       "      <td>0</td>\n",
       "      <td>0</td>\n",
       "    </tr>\n",
       "    <tr>\n",
       "      <th>2010-01-01 01:00:00</th>\n",
       "      <td>2</td>\n",
       "      <td>NaN</td>\n",
       "      <td>-21</td>\n",
       "      <td>-12.0</td>\n",
       "      <td>1020.0</td>\n",
       "      <td>NW</td>\n",
       "      <td>4.92</td>\n",
       "      <td>0</td>\n",
       "      <td>0</td>\n",
       "    </tr>\n",
       "    <tr>\n",
       "      <th>2010-01-01 02:00:00</th>\n",
       "      <td>3</td>\n",
       "      <td>NaN</td>\n",
       "      <td>-21</td>\n",
       "      <td>-11.0</td>\n",
       "      <td>1019.0</td>\n",
       "      <td>NW</td>\n",
       "      <td>6.71</td>\n",
       "      <td>0</td>\n",
       "      <td>0</td>\n",
       "    </tr>\n",
       "    <tr>\n",
       "      <th>2010-01-01 03:00:00</th>\n",
       "      <td>4</td>\n",
       "      <td>NaN</td>\n",
       "      <td>-21</td>\n",
       "      <td>-14.0</td>\n",
       "      <td>1019.0</td>\n",
       "      <td>NW</td>\n",
       "      <td>9.84</td>\n",
       "      <td>0</td>\n",
       "      <td>0</td>\n",
       "    </tr>\n",
       "    <tr>\n",
       "      <th>2010-01-01 04:00:00</th>\n",
       "      <td>5</td>\n",
       "      <td>NaN</td>\n",
       "      <td>-20</td>\n",
       "      <td>-12.0</td>\n",
       "      <td>1018.0</td>\n",
       "      <td>NW</td>\n",
       "      <td>12.97</td>\n",
       "      <td>0</td>\n",
       "      <td>0</td>\n",
       "    </tr>\n",
       "    <tr>\n",
       "      <th>...</th>\n",
       "      <td>...</td>\n",
       "      <td>...</td>\n",
       "      <td>...</td>\n",
       "      <td>...</td>\n",
       "      <td>...</td>\n",
       "      <td>...</td>\n",
       "      <td>...</td>\n",
       "      <td>...</td>\n",
       "      <td>...</td>\n",
       "    </tr>\n",
       "    <tr>\n",
       "      <th>2014-12-31 19:00:00</th>\n",
       "      <td>43820</td>\n",
       "      <td>8.0</td>\n",
       "      <td>-23</td>\n",
       "      <td>-2.0</td>\n",
       "      <td>1034.0</td>\n",
       "      <td>NW</td>\n",
       "      <td>231.97</td>\n",
       "      <td>0</td>\n",
       "      <td>0</td>\n",
       "    </tr>\n",
       "    <tr>\n",
       "      <th>2014-12-31 20:00:00</th>\n",
       "      <td>43821</td>\n",
       "      <td>10.0</td>\n",
       "      <td>-22</td>\n",
       "      <td>-3.0</td>\n",
       "      <td>1034.0</td>\n",
       "      <td>NW</td>\n",
       "      <td>237.78</td>\n",
       "      <td>0</td>\n",
       "      <td>0</td>\n",
       "    </tr>\n",
       "    <tr>\n",
       "      <th>2014-12-31 21:00:00</th>\n",
       "      <td>43822</td>\n",
       "      <td>10.0</td>\n",
       "      <td>-22</td>\n",
       "      <td>-3.0</td>\n",
       "      <td>1034.0</td>\n",
       "      <td>NW</td>\n",
       "      <td>242.70</td>\n",
       "      <td>0</td>\n",
       "      <td>0</td>\n",
       "    </tr>\n",
       "    <tr>\n",
       "      <th>2014-12-31 22:00:00</th>\n",
       "      <td>43823</td>\n",
       "      <td>8.0</td>\n",
       "      <td>-22</td>\n",
       "      <td>-4.0</td>\n",
       "      <td>1034.0</td>\n",
       "      <td>NW</td>\n",
       "      <td>246.72</td>\n",
       "      <td>0</td>\n",
       "      <td>0</td>\n",
       "    </tr>\n",
       "    <tr>\n",
       "      <th>2014-12-31 23:00:00</th>\n",
       "      <td>43824</td>\n",
       "      <td>12.0</td>\n",
       "      <td>-21</td>\n",
       "      <td>-3.0</td>\n",
       "      <td>1034.0</td>\n",
       "      <td>NW</td>\n",
       "      <td>249.85</td>\n",
       "      <td>0</td>\n",
       "      <td>0</td>\n",
       "    </tr>\n",
       "  </tbody>\n",
       "</table>\n",
       "<p>43824 rows × 9 columns</p>\n",
       "</div>"
      ],
      "text/plain": [
       "                        No  pm2.5  DEWP  TEMP    PRES cbwd     Iws  Is  Ir\n",
       "year_month_day_hour                                                       \n",
       "2010-01-01 00:00:00      1    NaN   -21 -11.0  1021.0   NW    1.79   0   0\n",
       "2010-01-01 01:00:00      2    NaN   -21 -12.0  1020.0   NW    4.92   0   0\n",
       "2010-01-01 02:00:00      3    NaN   -21 -11.0  1019.0   NW    6.71   0   0\n",
       "2010-01-01 03:00:00      4    NaN   -21 -14.0  1019.0   NW    9.84   0   0\n",
       "2010-01-01 04:00:00      5    NaN   -20 -12.0  1018.0   NW   12.97   0   0\n",
       "...                    ...    ...   ...   ...     ...  ...     ...  ..  ..\n",
       "2014-12-31 19:00:00  43820    8.0   -23  -2.0  1034.0   NW  231.97   0   0\n",
       "2014-12-31 20:00:00  43821   10.0   -22  -3.0  1034.0   NW  237.78   0   0\n",
       "2014-12-31 21:00:00  43822   10.0   -22  -3.0  1034.0   NW  242.70   0   0\n",
       "2014-12-31 22:00:00  43823    8.0   -22  -4.0  1034.0   NW  246.72   0   0\n",
       "2014-12-31 23:00:00  43824   12.0   -21  -3.0  1034.0   NW  249.85   0   0\n",
       "\n",
       "[43824 rows x 9 columns]"
      ]
     },
     "execution_count": 5,
     "metadata": {},
     "output_type": "execute_result"
    }
   ],
   "source": [
    "df"
   ]
  },
  {
   "cell_type": "code",
   "execution_count": 6,
   "metadata": {
    "ExecuteTime": {
     "end_time": "2021-01-03T13:46:45.648870Z",
     "start_time": "2021-01-03T13:46:45.642277Z"
    }
   },
   "outputs": [],
   "source": [
    "df.index.name = 'date'"
   ]
  },
  {
   "cell_type": "code",
   "execution_count": 7,
   "metadata": {
    "ExecuteTime": {
     "end_time": "2021-01-03T13:46:45.661531Z",
     "start_time": "2021-01-03T13:46:45.654437Z"
    }
   },
   "outputs": [
    {
     "data": {
      "text/plain": [
       "(Timestamp('2010-01-01 00:00:00'), Timestamp('2014-12-31 23:00:00'))"
      ]
     },
     "execution_count": 7,
     "metadata": {},
     "output_type": "execute_result"
    }
   ],
   "source": [
    "df.index.min(), df.index.max()"
   ]
  },
  {
   "cell_type": "markdown",
   "metadata": {},
   "source": [
    "2010年到2014年共5年的数据。"
   ]
  },
  {
   "cell_type": "code",
   "execution_count": 8,
   "metadata": {
    "ExecuteTime": {
     "end_time": "2021-01-03T13:46:45.703290Z",
     "start_time": "2021-01-03T13:46:45.664864Z"
    }
   },
   "outputs": [
    {
     "data": {
      "text/html": [
       "<div>\n",
       "<style scoped>\n",
       "    .dataframe tbody tr th:only-of-type {\n",
       "        vertical-align: middle;\n",
       "    }\n",
       "\n",
       "    .dataframe tbody tr th {\n",
       "        vertical-align: top;\n",
       "    }\n",
       "\n",
       "    .dataframe thead th {\n",
       "        text-align: right;\n",
       "    }\n",
       "</style>\n",
       "<table border=\"1\" class=\"dataframe\">\n",
       "  <thead>\n",
       "    <tr style=\"text-align: right;\">\n",
       "      <th></th>\n",
       "      <th>No</th>\n",
       "      <th>pm2.5</th>\n",
       "      <th>DEWP</th>\n",
       "      <th>TEMP</th>\n",
       "      <th>PRES</th>\n",
       "      <th>cbwd</th>\n",
       "      <th>Iws</th>\n",
       "      <th>Is</th>\n",
       "      <th>Ir</th>\n",
       "    </tr>\n",
       "    <tr>\n",
       "      <th>date</th>\n",
       "      <th></th>\n",
       "      <th></th>\n",
       "      <th></th>\n",
       "      <th></th>\n",
       "      <th></th>\n",
       "      <th></th>\n",
       "      <th></th>\n",
       "      <th></th>\n",
       "      <th></th>\n",
       "    </tr>\n",
       "  </thead>\n",
       "  <tbody>\n",
       "    <tr>\n",
       "      <th>2010-01-01 00:00:00</th>\n",
       "      <td>1</td>\n",
       "      <td>NaN</td>\n",
       "      <td>-21</td>\n",
       "      <td>-11.0</td>\n",
       "      <td>1021.0</td>\n",
       "      <td>NW</td>\n",
       "      <td>1.79</td>\n",
       "      <td>0</td>\n",
       "      <td>0</td>\n",
       "    </tr>\n",
       "    <tr>\n",
       "      <th>2010-01-01 01:00:00</th>\n",
       "      <td>2</td>\n",
       "      <td>NaN</td>\n",
       "      <td>-21</td>\n",
       "      <td>-12.0</td>\n",
       "      <td>1020.0</td>\n",
       "      <td>NW</td>\n",
       "      <td>4.92</td>\n",
       "      <td>0</td>\n",
       "      <td>0</td>\n",
       "    </tr>\n",
       "    <tr>\n",
       "      <th>2010-01-01 02:00:00</th>\n",
       "      <td>3</td>\n",
       "      <td>NaN</td>\n",
       "      <td>-21</td>\n",
       "      <td>-11.0</td>\n",
       "      <td>1019.0</td>\n",
       "      <td>NW</td>\n",
       "      <td>6.71</td>\n",
       "      <td>0</td>\n",
       "      <td>0</td>\n",
       "    </tr>\n",
       "    <tr>\n",
       "      <th>2010-01-01 03:00:00</th>\n",
       "      <td>4</td>\n",
       "      <td>NaN</td>\n",
       "      <td>-21</td>\n",
       "      <td>-14.0</td>\n",
       "      <td>1019.0</td>\n",
       "      <td>NW</td>\n",
       "      <td>9.84</td>\n",
       "      <td>0</td>\n",
       "      <td>0</td>\n",
       "    </tr>\n",
       "    <tr>\n",
       "      <th>2010-01-01 04:00:00</th>\n",
       "      <td>5</td>\n",
       "      <td>NaN</td>\n",
       "      <td>-20</td>\n",
       "      <td>-12.0</td>\n",
       "      <td>1018.0</td>\n",
       "      <td>NW</td>\n",
       "      <td>12.97</td>\n",
       "      <td>0</td>\n",
       "      <td>0</td>\n",
       "    </tr>\n",
       "    <tr>\n",
       "      <th>...</th>\n",
       "      <td>...</td>\n",
       "      <td>...</td>\n",
       "      <td>...</td>\n",
       "      <td>...</td>\n",
       "      <td>...</td>\n",
       "      <td>...</td>\n",
       "      <td>...</td>\n",
       "      <td>...</td>\n",
       "      <td>...</td>\n",
       "    </tr>\n",
       "    <tr>\n",
       "      <th>2010-12-31 19:00:00</th>\n",
       "      <td>8756</td>\n",
       "      <td>27.0</td>\n",
       "      <td>-20</td>\n",
       "      <td>-5.0</td>\n",
       "      <td>1030.0</td>\n",
       "      <td>NW</td>\n",
       "      <td>534.65</td>\n",
       "      <td>0</td>\n",
       "      <td>0</td>\n",
       "    </tr>\n",
       "    <tr>\n",
       "      <th>2010-12-31 20:00:00</th>\n",
       "      <td>8757</td>\n",
       "      <td>17.0</td>\n",
       "      <td>-20</td>\n",
       "      <td>-6.0</td>\n",
       "      <td>1031.0</td>\n",
       "      <td>NW</td>\n",
       "      <td>543.59</td>\n",
       "      <td>0</td>\n",
       "      <td>0</td>\n",
       "    </tr>\n",
       "    <tr>\n",
       "      <th>2010-12-31 21:00:00</th>\n",
       "      <td>8758</td>\n",
       "      <td>19.0</td>\n",
       "      <td>-21</td>\n",
       "      <td>-6.0</td>\n",
       "      <td>1031.0</td>\n",
       "      <td>NW</td>\n",
       "      <td>552.53</td>\n",
       "      <td>0</td>\n",
       "      <td>0</td>\n",
       "    </tr>\n",
       "    <tr>\n",
       "      <th>2010-12-31 22:00:00</th>\n",
       "      <td>8759</td>\n",
       "      <td>16.0</td>\n",
       "      <td>-21</td>\n",
       "      <td>-7.0</td>\n",
       "      <td>1032.0</td>\n",
       "      <td>NW</td>\n",
       "      <td>559.68</td>\n",
       "      <td>0</td>\n",
       "      <td>0</td>\n",
       "    </tr>\n",
       "    <tr>\n",
       "      <th>2010-12-31 23:00:00</th>\n",
       "      <td>8760</td>\n",
       "      <td>22.0</td>\n",
       "      <td>-21</td>\n",
       "      <td>-7.0</td>\n",
       "      <td>1033.0</td>\n",
       "      <td>NW</td>\n",
       "      <td>565.49</td>\n",
       "      <td>0</td>\n",
       "      <td>0</td>\n",
       "    </tr>\n",
       "  </tbody>\n",
       "</table>\n",
       "<p>8760 rows × 9 columns</p>\n",
       "</div>"
      ],
      "text/plain": [
       "                       No  pm2.5  DEWP  TEMP    PRES cbwd     Iws  Is  Ir\n",
       "date                                                                     \n",
       "2010-01-01 00:00:00     1    NaN   -21 -11.0  1021.0   NW    1.79   0   0\n",
       "2010-01-01 01:00:00     2    NaN   -21 -12.0  1020.0   NW    4.92   0   0\n",
       "2010-01-01 02:00:00     3    NaN   -21 -11.0  1019.0   NW    6.71   0   0\n",
       "2010-01-01 03:00:00     4    NaN   -21 -14.0  1019.0   NW    9.84   0   0\n",
       "2010-01-01 04:00:00     5    NaN   -20 -12.0  1018.0   NW   12.97   0   0\n",
       "...                   ...    ...   ...   ...     ...  ...     ...  ..  ..\n",
       "2010-12-31 19:00:00  8756   27.0   -20  -5.0  1030.0   NW  534.65   0   0\n",
       "2010-12-31 20:00:00  8757   17.0   -20  -6.0  1031.0   NW  543.59   0   0\n",
       "2010-12-31 21:00:00  8758   19.0   -21  -6.0  1031.0   NW  552.53   0   0\n",
       "2010-12-31 22:00:00  8759   16.0   -21  -7.0  1032.0   NW  559.68   0   0\n",
       "2010-12-31 23:00:00  8760   22.0   -21  -7.0  1033.0   NW  565.49   0   0\n",
       "\n",
       "[8760 rows x 9 columns]"
      ]
     },
     "execution_count": 8,
     "metadata": {},
     "output_type": "execute_result"
    }
   ],
   "source": [
    "df.loc['2010']"
   ]
  },
  {
   "cell_type": "code",
   "execution_count": 9,
   "metadata": {
    "ExecuteTime": {
     "end_time": "2021-01-03T13:46:45.720876Z",
     "start_time": "2021-01-03T13:46:45.709541Z"
    }
   },
   "outputs": [],
   "source": [
    "# 数据清洗\n",
    "df.drop(columns=\"No\", inplace=True)"
   ]
  },
  {
   "cell_type": "code",
   "execution_count": 11,
   "metadata": {
    "ExecuteTime": {
     "end_time": "2021-01-03T13:46:45.739999Z",
     "start_time": "2021-01-03T13:46:45.726815Z"
    }
   },
   "outputs": [
    {
     "data": {
      "text/html": [
       "<div>\n",
       "<style scoped>\n",
       "    .dataframe tbody tr th:only-of-type {\n",
       "        vertical-align: middle;\n",
       "    }\n",
       "\n",
       "    .dataframe tbody tr th {\n",
       "        vertical-align: top;\n",
       "    }\n",
       "\n",
       "    .dataframe thead th {\n",
       "        text-align: right;\n",
       "    }\n",
       "</style>\n",
       "<table border=\"1\" class=\"dataframe\">\n",
       "  <thead>\n",
       "    <tr style=\"text-align: right;\">\n",
       "      <th></th>\n",
       "      <th>pollution</th>\n",
       "      <th>dew</th>\n",
       "      <th>temp</th>\n",
       "      <th>press</th>\n",
       "      <th>wnd_dir</th>\n",
       "      <th>wnd_spd</th>\n",
       "      <th>cum_snow</th>\n",
       "      <th>cum_rain</th>\n",
       "    </tr>\n",
       "    <tr>\n",
       "      <th>date</th>\n",
       "      <th></th>\n",
       "      <th></th>\n",
       "      <th></th>\n",
       "      <th></th>\n",
       "      <th></th>\n",
       "      <th></th>\n",
       "      <th></th>\n",
       "      <th></th>\n",
       "    </tr>\n",
       "  </thead>\n",
       "  <tbody>\n",
       "    <tr>\n",
       "      <th>2010-01-01 00:00:00</th>\n",
       "      <td>NaN</td>\n",
       "      <td>-21</td>\n",
       "      <td>-11.0</td>\n",
       "      <td>1021.0</td>\n",
       "      <td>NW</td>\n",
       "      <td>1.79</td>\n",
       "      <td>0</td>\n",
       "      <td>0</td>\n",
       "    </tr>\n",
       "    <tr>\n",
       "      <th>2010-01-01 01:00:00</th>\n",
       "      <td>NaN</td>\n",
       "      <td>-21</td>\n",
       "      <td>-12.0</td>\n",
       "      <td>1020.0</td>\n",
       "      <td>NW</td>\n",
       "      <td>4.92</td>\n",
       "      <td>0</td>\n",
       "      <td>0</td>\n",
       "    </tr>\n",
       "    <tr>\n",
       "      <th>2010-01-01 02:00:00</th>\n",
       "      <td>NaN</td>\n",
       "      <td>-21</td>\n",
       "      <td>-11.0</td>\n",
       "      <td>1019.0</td>\n",
       "      <td>NW</td>\n",
       "      <td>6.71</td>\n",
       "      <td>0</td>\n",
       "      <td>0</td>\n",
       "    </tr>\n",
       "    <tr>\n",
       "      <th>2010-01-01 03:00:00</th>\n",
       "      <td>NaN</td>\n",
       "      <td>-21</td>\n",
       "      <td>-14.0</td>\n",
       "      <td>1019.0</td>\n",
       "      <td>NW</td>\n",
       "      <td>9.84</td>\n",
       "      <td>0</td>\n",
       "      <td>0</td>\n",
       "    </tr>\n",
       "    <tr>\n",
       "      <th>2010-01-01 04:00:00</th>\n",
       "      <td>NaN</td>\n",
       "      <td>-20</td>\n",
       "      <td>-12.0</td>\n",
       "      <td>1018.0</td>\n",
       "      <td>NW</td>\n",
       "      <td>12.97</td>\n",
       "      <td>0</td>\n",
       "      <td>0</td>\n",
       "    </tr>\n",
       "    <tr>\n",
       "      <th>...</th>\n",
       "      <td>...</td>\n",
       "      <td>...</td>\n",
       "      <td>...</td>\n",
       "      <td>...</td>\n",
       "      <td>...</td>\n",
       "      <td>...</td>\n",
       "      <td>...</td>\n",
       "      <td>...</td>\n",
       "    </tr>\n",
       "    <tr>\n",
       "      <th>2014-12-31 19:00:00</th>\n",
       "      <td>8.0</td>\n",
       "      <td>-23</td>\n",
       "      <td>-2.0</td>\n",
       "      <td>1034.0</td>\n",
       "      <td>NW</td>\n",
       "      <td>231.97</td>\n",
       "      <td>0</td>\n",
       "      <td>0</td>\n",
       "    </tr>\n",
       "    <tr>\n",
       "      <th>2014-12-31 20:00:00</th>\n",
       "      <td>10.0</td>\n",
       "      <td>-22</td>\n",
       "      <td>-3.0</td>\n",
       "      <td>1034.0</td>\n",
       "      <td>NW</td>\n",
       "      <td>237.78</td>\n",
       "      <td>0</td>\n",
       "      <td>0</td>\n",
       "    </tr>\n",
       "    <tr>\n",
       "      <th>2014-12-31 21:00:00</th>\n",
       "      <td>10.0</td>\n",
       "      <td>-22</td>\n",
       "      <td>-3.0</td>\n",
       "      <td>1034.0</td>\n",
       "      <td>NW</td>\n",
       "      <td>242.70</td>\n",
       "      <td>0</td>\n",
       "      <td>0</td>\n",
       "    </tr>\n",
       "    <tr>\n",
       "      <th>2014-12-31 22:00:00</th>\n",
       "      <td>8.0</td>\n",
       "      <td>-22</td>\n",
       "      <td>-4.0</td>\n",
       "      <td>1034.0</td>\n",
       "      <td>NW</td>\n",
       "      <td>246.72</td>\n",
       "      <td>0</td>\n",
       "      <td>0</td>\n",
       "    </tr>\n",
       "    <tr>\n",
       "      <th>2014-12-31 23:00:00</th>\n",
       "      <td>12.0</td>\n",
       "      <td>-21</td>\n",
       "      <td>-3.0</td>\n",
       "      <td>1034.0</td>\n",
       "      <td>NW</td>\n",
       "      <td>249.85</td>\n",
       "      <td>0</td>\n",
       "      <td>0</td>\n",
       "    </tr>\n",
       "  </tbody>\n",
       "</table>\n",
       "<p>43824 rows × 8 columns</p>\n",
       "</div>"
      ],
      "text/plain": [
       "                     pollution  dew  temp   press wnd_dir  wnd_spd  cum_snow  \\\n",
       "date                                                                           \n",
       "2010-01-01 00:00:00        NaN  -21 -11.0  1021.0      NW     1.79         0   \n",
       "2010-01-01 01:00:00        NaN  -21 -12.0  1020.0      NW     4.92         0   \n",
       "2010-01-01 02:00:00        NaN  -21 -11.0  1019.0      NW     6.71         0   \n",
       "2010-01-01 03:00:00        NaN  -21 -14.0  1019.0      NW     9.84         0   \n",
       "2010-01-01 04:00:00        NaN  -20 -12.0  1018.0      NW    12.97         0   \n",
       "...                        ...  ...   ...     ...     ...      ...       ...   \n",
       "2014-12-31 19:00:00        8.0  -23  -2.0  1034.0      NW   231.97         0   \n",
       "2014-12-31 20:00:00       10.0  -22  -3.0  1034.0      NW   237.78         0   \n",
       "2014-12-31 21:00:00       10.0  -22  -3.0  1034.0      NW   242.70         0   \n",
       "2014-12-31 22:00:00        8.0  -22  -4.0  1034.0      NW   246.72         0   \n",
       "2014-12-31 23:00:00       12.0  -21  -3.0  1034.0      NW   249.85         0   \n",
       "\n",
       "                     cum_rain  \n",
       "date                           \n",
       "2010-01-01 00:00:00         0  \n",
       "2010-01-01 01:00:00         0  \n",
       "2010-01-01 02:00:00         0  \n",
       "2010-01-01 03:00:00         0  \n",
       "2010-01-01 04:00:00         0  \n",
       "...                       ...  \n",
       "2014-12-31 19:00:00         0  \n",
       "2014-12-31 20:00:00         0  \n",
       "2014-12-31 21:00:00         0  \n",
       "2014-12-31 22:00:00         0  \n",
       "2014-12-31 23:00:00         0  \n",
       "\n",
       "[43824 rows x 8 columns]"
      ]
     },
     "execution_count": 11,
     "metadata": {},
     "output_type": "execute_result"
    }
   ],
   "source": [
    "# 修改列名\n",
    "df.columns = ['pollution', 'dew', 'temp', 'press', 'wnd_dir', 'wnd_spd', 'cum_snow', 'cum_rain']\n",
    "df"
   ]
  },
  {
   "cell_type": "code",
   "execution_count": 12,
   "metadata": {
    "ExecuteTime": {
     "end_time": "2021-01-03T13:46:45.771702Z",
     "start_time": "2021-01-03T13:46:45.743051Z"
    }
   },
   "outputs": [
    {
     "name": "stdout",
     "output_type": "stream",
     "text": [
      "<class 'pandas.core.frame.DataFrame'>\n",
      "DatetimeIndex: 43824 entries, 2010-01-01 00:00:00 to 2014-12-31 23:00:00\n",
      "Data columns (total 8 columns):\n",
      " #   Column     Non-Null Count  Dtype  \n",
      "---  ------     --------------  -----  \n",
      " 0   pollution  41757 non-null  float64\n",
      " 1   dew        43824 non-null  int64  \n",
      " 2   temp       43824 non-null  float64\n",
      " 3   press      43824 non-null  float64\n",
      " 4   wnd_dir    43824 non-null  object \n",
      " 5   wnd_spd    43824 non-null  float64\n",
      " 6   cum_snow   43824 non-null  int64  \n",
      " 7   cum_rain   43824 non-null  int64  \n",
      "dtypes: float64(4), int64(3), object(1)\n",
      "memory usage: 3.0+ MB\n"
     ]
    }
   ],
   "source": [
    "# 缺失值\n",
    "df.info()"
   ]
  },
  {
   "cell_type": "code",
   "execution_count": 13,
   "metadata": {
    "ExecuteTime": {
     "end_time": "2021-01-03T13:46:45.800066Z",
     "start_time": "2021-01-03T13:46:45.781367Z"
    }
   },
   "outputs": [
    {
     "name": "stdout",
     "output_type": "stream",
     "text": [
      "pollution列缺失值占比为 4.72%\n",
      "缺失值日期  小时数\n"
     ]
    },
    {
     "data": {
      "text/plain": [
       "2010-01-01    24\n",
       "2010-01-23     7\n",
       "2010-01-24    24\n",
       "2010-01-25    24\n",
       "2010-01-26    12\n",
       "              ..\n",
       "2014-11-21     9\n",
       "2014-12-05     2\n",
       "2014-12-08     6\n",
       "2014-12-09    11\n",
       "2014-12-20     9\n",
       "Length: 255, dtype: int64"
      ]
     },
     "execution_count": 13,
     "metadata": {},
     "output_type": "execute_result"
    }
   ],
   "source": [
    "mask = df['pollution'].isna()\n",
    "print(\"pollution列缺失值占比为 %.2f%%\" % (mask.sum() / len(mask) * 100))\n",
    "print(\"缺失值日期  小时数\")\n",
    "pd.Series(df.loc[mask, 'pollution'].index.date).value_counts().sort_index()"
   ]
  },
  {
   "cell_type": "code",
   "execution_count": 14,
   "metadata": {
    "ExecuteTime": {
     "end_time": "2021-01-03T13:46:45.833199Z",
     "start_time": "2021-01-03T13:46:45.825033Z"
    }
   },
   "outputs": [],
   "source": [
    "# 可视化\n",
    "def plot_polution(df, ax, year='2010'):\n",
    "    \"\"\"绘制一年的PM2.5变动情况\"\"\"\n",
    "    year_df = df.loc[year, ['pollution']]\n",
    "    # 按PM2.5的分级标准进行分桶：优、良、轻度、中度污染、重度污染、严重污染\n",
    "    year_df['group'] = pd.cut(year_df['pollution'], bins=[-np.inf, 35, 75, 115, 150, 250, np.inf], labels=range(6))\n",
    "    # 优、良、轻度、中度污染、重度污染、严重污染\n",
    "    # 对应颜色：绿色、中海绿色、黄色、橙色、红色、深红色\n",
    "    colors = ['green', 'mediumseagreen', 'yellow', 'orange', 'red', 'darkred']\n",
    "    colors = year_df['group'].apply(lambda x: colors[x])\n",
    "    ax.scatter(x=year_df.index,\n",
    "               y=year_df['pollution'].values,\n",
    "               color=colors.values,\n",
    "               marker='+')\n",
    "    ax.set_ylabel('PM2.5')\n",
    "    # 统一坐标轴刻度\n",
    "    ax.set_ylim(0, 1e3)\n",
    "    if year == '2010':\n",
    "        ax.set_title(\"PM2.5级别与颜色: 优:绿色, 良:中海绿色, 轻度:黄色, 中度:橙色, 重度:红色, 严重:深红色\")\n",
    "    if year == '2014':\n",
    "        ax.set_xlabel('Date')"
   ]
  },
  {
   "cell_type": "code",
   "execution_count": 15,
   "metadata": {
    "ExecuteTime": {
     "end_time": "2021-01-03T13:46:47.416220Z",
     "start_time": "2021-01-03T13:46:45.836307Z"
    },
    "scrolled": false
   },
   "outputs": [
    {
     "data": {
      "image/png": "[encoded data removed]",
      "text/plain": [
       "<Figure size 1152x1080 with 5 Axes>"
      ]
     },
     "metadata": {},
     "output_type": "display_data"
    }
   ],
   "source": [
    "# 每年PM2.5变动情况\n",
    "fig, axes = plt.subplots(5, 1, figsize=(16, 15))\n",
    "for i in range(5):\n",
    "    plot_polution(df, axes[i], year='201%d' % i)\n",
    "plt.show()"
   ]
  },
  {
   "cell_type": "markdown",
   "metadata": {},
   "source": [
    "1.全天PM2.5水平均处在优或良水平的天数很少。\n",
    "\n",
    "2.严重污染多出现在每年的1-3月、7月、10-12月，说明与较冷的天气有关系，同时也与碳排放量有关。"
   ]
  },
  {
   "cell_type": "code",
   "execution_count": 16,
   "metadata": {
    "ExecuteTime": {
     "end_time": "2021-01-03T13:46:47.601614Z",
     "start_time": "2021-01-03T13:46:47.418102Z"
    }
   },
   "outputs": [
    {
     "data": {
      "text/plain": [
       "<matplotlib.axes._subplots.AxesSubplot at 0x7fa83e204490>"
      ]
     },
     "execution_count": 16,
     "metadata": {},
     "output_type": "execute_result"
    },
    {
     "data": {
      "image/png": "[encoded data removed]",
      "text/plain": [
       "<Figure size 432x288 with 1 Axes>"
      ]
     },
     "metadata": {},
     "output_type": "display_data"
    }
   ],
   "source": [
    "# wnd_dir列数值化\n",
    "sns.countplot(data=df, x='wnd_dir', palette=\"Set3\")"
   ]
  },
  {
   "cell_type": "code",
   "execution_count": 17,
   "metadata": {
    "ExecuteTime": {
     "end_time": "2021-01-03T13:46:47.613331Z",
     "start_time": "2021-01-03T13:46:47.604046Z"
    }
   },
   "outputs": [
    {
     "data": {
      "text/plain": [
       "date\n",
       "2010-01-02 00:00:00    SE\n",
       "2010-01-02 01:00:00    SE\n",
       "2010-01-02 02:00:00    SE\n",
       "2010-01-02 03:00:00    SE\n",
       "2010-01-02 04:00:00    SE\n",
       "                       ..\n",
       "2014-12-31 19:00:00    NW\n",
       "2014-12-31 20:00:00    NW\n",
       "2014-12-31 21:00:00    NW\n",
       "2014-12-31 22:00:00    NW\n",
       "2014-12-31 23:00:00    NW\n",
       "Name: wnd_dir, Length: 43800, dtype: object"
      ]
     },
     "execution_count": 17,
     "metadata": {},
     "output_type": "execute_result"
    }
   ],
   "source": [
    "df['wnd_dir']"
   ]
  },
  {
   "cell_type": "code",
   "execution_count": 18,
   "metadata": {
    "ExecuteTime": {
     "end_time": "2021-01-03T13:46:47.629675Z",
     "start_time": "2021-01-03T13:46:47.616824Z"
    }
   },
   "outputs": [
    {
     "data": {
      "text/plain": [
       "array(['NE', 'NW', 'SE', 'cv'], dtype=object)"
      ]
     },
     "execution_count": 18,
     "metadata": {},
     "output_type": "execute_result"
    }
   ],
   "source": [
    "transfer = LabelEncoder()\n",
    "df['wnd_dir'] = transfer.fit_transform(df['wnd_dir'])\n",
    "# label 0 1 2 3对应含义\n",
    "transfer.classes_"
   ]
  },
  {
   "cell_type": "code",
   "execution_count": 26,
   "metadata": {
    "ExecuteTime": {
     "end_time": "2021-01-03T13:46:51.462245Z",
     "start_time": "2021-01-03T13:46:51.451794Z"
    },
    "scrolled": true
   },
   "outputs": [
    {
     "data": {
      "text/plain": [
       "count    43800.000000\n",
       "mean         0.052763\n",
       "std          0.760582\n",
       "min          0.000000\n",
       "25%          0.000000\n",
       "50%          0.000000\n",
       "75%          0.000000\n",
       "max         27.000000\n",
       "Name: cum_snow, dtype: float64"
      ]
     },
     "execution_count": 26,
     "metadata": {},
     "output_type": "execute_result"
    }
   ],
   "source": [
    "# EDA\n",
    "df['cum_snow'].describe()"
   ]
  },
  {
   "cell_type": "code",
   "execution_count": 27,
   "metadata": {
    "ExecuteTime": {
     "end_time": "2021-01-03T13:46:51.474914Z",
     "start_time": "2021-01-03T13:46:51.464563Z"
    },
    "scrolled": false
   },
   "outputs": [
    {
     "data": {
      "text/plain": [
       "count    43800.000000\n",
       "mean         0.195023\n",
       "std          1.416247\n",
       "min          0.000000\n",
       "25%          0.000000\n",
       "50%          0.000000\n",
       "75%          0.000000\n",
       "max         36.000000\n",
       "Name: cum_rain, dtype: float64"
      ]
     },
     "execution_count": 27,
     "metadata": {},
     "output_type": "execute_result"
    }
   ],
   "source": [
    "df['cum_rain'].describe()"
   ]
  },
  {
   "cell_type": "code",
   "execution_count": 28,
   "metadata": {
    "ExecuteTime": {
     "end_time": "2021-01-03T13:46:51.482300Z",
     "start_time": "2021-01-03T13:46:51.477461Z"
    }
   },
   "outputs": [],
   "source": [
    "# 相关系数可视化\n",
    "def sort_corr(corr_df, target_col='pollution'):\n",
    "    \"\"\"按与目标列相关系数垂直由低到高、水平由高到低对相关系数矩阵重新排序\"\"\"\n",
    "    tmp = corr_df.copy()\n",
    "    tmp = tmp.sort_values(by=target_col, ascending=True)\n",
    "    sort_cols = tmp.index.tolist()\n",
    "    tmp = tmp.loc[:, sort_cols[::-1]]\n",
    "    return tmp"
   ]
  },
  {
   "cell_type": "code",
   "execution_count": 29,
   "metadata": {
    "ExecuteTime": {
     "end_time": "2021-01-03T13:46:51.538515Z",
     "start_time": "2021-01-03T13:46:51.484890Z"
    }
   },
   "outputs": [
    {
     "data": {
      "text/html": [
       "<div>\n",
       "<style scoped>\n",
       "    .dataframe tbody tr th:only-of-type {\n",
       "        vertical-align: middle;\n",
       "    }\n",
       "\n",
       "    .dataframe tbody tr th {\n",
       "        vertical-align: top;\n",
       "    }\n",
       "\n",
       "    .dataframe thead th {\n",
       "        text-align: right;\n",
       "    }\n",
       "</style>\n",
       "<table border=\"1\" class=\"dataframe\">\n",
       "  <thead>\n",
       "    <tr style=\"text-align: right;\">\n",
       "      <th></th>\n",
       "      <th>pollution</th>\n",
       "      <th>dew</th>\n",
       "      <th>temp</th>\n",
       "      <th>press</th>\n",
       "      <th>wnd_dir</th>\n",
       "      <th>wnd_spd</th>\n",
       "      <th>cum_snow</th>\n",
       "      <th>cum_rain</th>\n",
       "    </tr>\n",
       "  </thead>\n",
       "  <tbody>\n",
       "    <tr>\n",
       "      <th>pollution</th>\n",
       "      <td>1.000000</td>\n",
       "      <td>0.157585</td>\n",
       "      <td>-0.090798</td>\n",
       "      <td>-0.045544</td>\n",
       "      <td>0.187459</td>\n",
       "      <td>-0.234362</td>\n",
       "      <td>0.022226</td>\n",
       "      <td>-0.049045</td>\n",
       "    </tr>\n",
       "    <tr>\n",
       "      <th>dew</th>\n",
       "      <td>0.157585</td>\n",
       "      <td>1.000000</td>\n",
       "      <td>0.824432</td>\n",
       "      <td>-0.778737</td>\n",
       "      <td>0.232960</td>\n",
       "      <td>-0.296720</td>\n",
       "      <td>-0.034484</td>\n",
       "      <td>0.125053</td>\n",
       "    </tr>\n",
       "    <tr>\n",
       "      <th>temp</th>\n",
       "      <td>-0.090798</td>\n",
       "      <td>0.824432</td>\n",
       "      <td>1.000000</td>\n",
       "      <td>-0.827205</td>\n",
       "      <td>0.175626</td>\n",
       "      <td>-0.154902</td>\n",
       "      <td>-0.092726</td>\n",
       "      <td>0.049037</td>\n",
       "    </tr>\n",
       "    <tr>\n",
       "      <th>press</th>\n",
       "      <td>-0.045544</td>\n",
       "      <td>-0.778737</td>\n",
       "      <td>-0.827205</td>\n",
       "      <td>1.000000</td>\n",
       "      <td>-0.168986</td>\n",
       "      <td>0.185380</td>\n",
       "      <td>0.069031</td>\n",
       "      <td>-0.079840</td>\n",
       "    </tr>\n",
       "    <tr>\n",
       "      <th>wnd_dir</th>\n",
       "      <td>0.187459</td>\n",
       "      <td>0.232960</td>\n",
       "      <td>0.175626</td>\n",
       "      <td>-0.168986</td>\n",
       "      <td>1.000000</td>\n",
       "      <td>-0.200031</td>\n",
       "      <td>0.010356</td>\n",
       "      <td>-0.048323</td>\n",
       "    </tr>\n",
       "    <tr>\n",
       "      <th>wnd_spd</th>\n",
       "      <td>-0.234362</td>\n",
       "      <td>-0.296720</td>\n",
       "      <td>-0.154902</td>\n",
       "      <td>0.185380</td>\n",
       "      <td>-0.200031</td>\n",
       "      <td>1.000000</td>\n",
       "      <td>0.021876</td>\n",
       "      <td>-0.010137</td>\n",
       "    </tr>\n",
       "    <tr>\n",
       "      <th>cum_snow</th>\n",
       "      <td>0.022226</td>\n",
       "      <td>-0.034484</td>\n",
       "      <td>-0.092726</td>\n",
       "      <td>0.069031</td>\n",
       "      <td>0.010356</td>\n",
       "      <td>0.021876</td>\n",
       "      <td>1.000000</td>\n",
       "      <td>-0.009553</td>\n",
       "    </tr>\n",
       "    <tr>\n",
       "      <th>cum_rain</th>\n",
       "      <td>-0.049045</td>\n",
       "      <td>0.125053</td>\n",
       "      <td>0.049037</td>\n",
       "      <td>-0.079840</td>\n",
       "      <td>-0.048323</td>\n",
       "      <td>-0.010137</td>\n",
       "      <td>-0.009553</td>\n",
       "      <td>1.000000</td>\n",
       "    </tr>\n",
       "  </tbody>\n",
       "</table>\n",
       "</div>"
      ],
      "text/plain": [
       "           pollution       dew      temp     press   wnd_dir   wnd_spd  \\\n",
       "pollution   1.000000  0.157585 -0.090798 -0.045544  0.187459 -0.234362   \n",
       "dew         0.157585  1.000000  0.824432 -0.778737  0.232960 -0.296720   \n",
       "temp       -0.090798  0.824432  1.000000 -0.827205  0.175626 -0.154902   \n",
       "press      -0.045544 -0.778737 -0.827205  1.000000 -0.168986  0.185380   \n",
       "wnd_dir     0.187459  0.232960  0.175626 -0.168986  1.000000 -0.200031   \n",
       "wnd_spd    -0.234362 -0.296720 -0.154902  0.185380 -0.200031  1.000000   \n",
       "cum_snow    0.022226 -0.034484 -0.092726  0.069031  0.010356  0.021876   \n",
       "cum_rain   -0.049045  0.125053  0.049037 -0.079840 -0.048323 -0.010137   \n",
       "\n",
       "           cum_snow  cum_rain  \n",
       "pollution  0.022226 -0.049045  \n",
       "dew       -0.034484  0.125053  \n",
       "temp      -0.092726  0.049037  \n",
       "press      0.069031 -0.079840  \n",
       "wnd_dir    0.010356 -0.048323  \n",
       "wnd_spd    0.021876 -0.010137  \n",
       "cum_snow   1.000000 -0.009553  \n",
       "cum_rain  -0.009553  1.000000  "
      ]
     },
     "execution_count": 29,
     "metadata": {},
     "output_type": "execute_result"
    }
   ],
   "source": [
    "corr_df = df.corr()\n",
    "corr_df"
   ]
  },
  {
   "cell_type": "code",
   "execution_count": 30,
   "metadata": {
    "ExecuteTime": {
     "end_time": "2021-01-03T13:46:52.176466Z",
     "start_time": "2021-01-03T13:46:51.549875Z"
    }
   },
   "outputs": [
    {
     "data": {
      "text/plain": [
       "<matplotlib.axes._subplots.AxesSubplot at 0x7fa843b16c10>"
      ]
     },
     "execution_count": 30,
     "metadata": {},
     "output_type": "execute_result"
    },
    {
     "data": {
      "image/png": "[encoded data removed]",
      "text/plain": [
       "<Figure size 576x576 with 2 Axes>"
      ]
     },
     "metadata": {},
     "output_type": "display_data"
    }
   ],
   "source": [
    "plt.figure(figsize=(8, 8))\n",
    "sns.heatmap(sort_corr(corr_df), annot=True, square=True, fmt='.2f')"
   ]
  },
  {
   "cell_type": "markdown",
   "metadata": {},
   "source": [
    "没有到相关系数±0.9的特征，暂保留所有特征。"
   ]
  },
  {
   "cell_type": "markdown",
   "metadata": {},
   "source": [
    "准备训练集和测试集"
   ]
  },
  {
   "cell_type": "code",
   "execution_count": 31,
   "metadata": {
    "ExecuteTime": {
     "end_time": "2021-01-03T13:46:52.659536Z",
     "start_time": "2021-01-03T13:46:52.180581Z"
    }
   },
   "outputs": [],
   "source": [
    "# 无量纲化\n",
    "scaled_df = df.copy()\n",
    "# 只对前8列作为特征的列进行无量纲化\n",
    "transfer2 = StandardScaler()\n",
    "scaled_df.loc[:, 'dew':] = transfer2.fit_transform(scaled_df.loc[:, 'dew':])\n",
    "\n",
    "# 对单独对目标列进行归一化\n",
    "pollution_scaler = StandardScaler()\n",
    "pollution_scaler.fit(scaled_df[['pollution']])\n",
    "scaled_df.loc[:, 'pollution'] = pollution_scaler.transform(\n",
    "    scaled_df[['pollution']])[:, 0]"
   ]
  },
  {
   "cell_type": "code",
   "execution_count": 32,
   "metadata": {
    "ExecuteTime": {
     "end_time": "2021-01-03T13:46:52.674573Z",
     "start_time": "2021-01-03T13:46:52.666412Z"
    }
   },
   "outputs": [
    {
     "data": {
      "text/plain": [
       "(43800, 8)"
      ]
     },
     "execution_count": 32,
     "metadata": {},
     "output_type": "execute_result"
    }
   ],
   "source": [
    "scaled_df.shape"
   ]
  },
  {
   "cell_type": "code",
   "execution_count": 33,
   "metadata": {
    "ExecuteTime": {
     "end_time": "2021-01-03T13:46:52.695402Z",
     "start_time": "2021-01-03T13:46:52.681788Z"
    }
   },
   "outputs": [],
   "source": [
    "# 时间序列转为适用于监督学习的数据\n",
    "def series_to_supervised(df, n_in=1, n_out=1, dropnan=True):\n",
    "    \"\"\"将时间序列数据转换为适用于监督学习的数据\n",
    "    给定输入、输出序列的长度\n",
    "    df: 观察序列\n",
    "    n_in: 观测数据input(X)的步长，范围[1, len(data)], 默认为1\n",
    "    n_out: 观测数据output(y)的步长， 范围为[0, len(data)-1], 默认为1\n",
    "    dropnan: 是否删除NaN行\n",
    "    return：适用于监督学习的DataFrame\n",
    "    \"\"\"\n",
    "    # 统计特征数\n",
    "    n_vars = 1 if isinstance(df, list) else df.shape[1]\n",
    "    data = pd.DataFrame(df)\n",
    "\n",
    "    datalist, names = list(), list()\n",
    "\n",
    "    # 输入序列 (t-n, ... t-1)\n",
    "    for n in range(n_in, 0, -1):\n",
    "        # data所有数据向下移动i行\n",
    "        datalist.append(data.shift(n))\n",
    "        names += [f'var{j + 1}(t-{n})' for j in range(n_vars)]\n",
    "\n",
    "    # 要预测的序列 (t, t+1, ... t+n)\n",
    "    for i in range(0, n_out):\n",
    "        # data所有数据向上移动i行\n",
    "        datalist.append(data.shift(-i))\n",
    "        if i == 0:\n",
    "            # 第t个时刻的8个特征名\n",
    "            names += [f'var{j + 1}(t)' for j in range(n_vars)]\n",
    "        else:\n",
    "            # 第t + i个时刻的8个特征名称\n",
    "            names += [f'var{j + 1}(t+{i})' for j in range(n_vars)]\n",
    "    # 水平拼接到一起\n",
    "    agg = pd.concat(datalist, axis=1)\n",
    "    agg.columns = names\n",
    "    # 去掉NaN行\n",
    "    if dropnan:\n",
    "        agg.dropna(inplace=True)\n",
    "    return agg"
   ]
  },
  {
   "cell_type": "code",
   "execution_count": 34,
   "metadata": {
    "ExecuteTime": {
     "end_time": "2021-01-03T13:46:54.044980Z",
     "start_time": "2021-01-03T13:46:52.699070Z"
    }
   },
   "outputs": [
    {
     "name": "stdout",
     "output_type": "stream",
     "text": [
      "(43799, 16)\n"
     ]
    },
    {
     "data": {
      "text/html": [
       "<div>\n",
       "<style scoped>\n",
       "    .dataframe tbody tr th:only-of-type {\n",
       "        vertical-align: middle;\n",
       "    }\n",
       "\n",
       "    .dataframe tbody tr th {\n",
       "        vertical-align: top;\n",
       "    }\n",
       "\n",
       "    .dataframe thead th {\n",
       "        text-align: right;\n",
       "    }\n",
       "</style>\n",
       "<table border=\"1\" class=\"dataframe\">\n",
       "  <thead>\n",
       "    <tr style=\"text-align: right;\">\n",
       "      <th></th>\n",
       "      <th>var1(t-1)</th>\n",
       "      <th>var2(t-1)</th>\n",
       "      <th>var3(t-1)</th>\n",
       "      <th>var4(t-1)</th>\n",
       "      <th>var5(t-1)</th>\n",
       "      <th>var6(t-1)</th>\n",
       "      <th>var7(t-1)</th>\n",
       "      <th>var8(t-1)</th>\n",
       "      <th>var1(t)</th>\n",
       "      <th>var2(t)</th>\n",
       "      <th>var3(t)</th>\n",
       "      <th>var4(t)</th>\n",
       "      <th>var5(t)</th>\n",
       "      <th>var6(t)</th>\n",
       "      <th>var7(t)</th>\n",
       "      <th>var8(t)</th>\n",
       "    </tr>\n",
       "    <tr>\n",
       "      <th>date</th>\n",
       "      <th></th>\n",
       "      <th></th>\n",
       "      <th></th>\n",
       "      <th></th>\n",
       "      <th></th>\n",
       "      <th></th>\n",
       "      <th></th>\n",
       "      <th></th>\n",
       "      <th></th>\n",
       "      <th></th>\n",
       "      <th></th>\n",
       "      <th></th>\n",
       "      <th></th>\n",
       "      <th></th>\n",
       "      <th></th>\n",
       "      <th></th>\n",
       "    </tr>\n",
       "  </thead>\n",
       "  <tbody>\n",
       "    <tr>\n",
       "      <th>2010-01-02 01:00:00</th>\n",
       "      <td>0.379252</td>\n",
       "      <td>-1.235589</td>\n",
       "      <td>-1.349849</td>\n",
       "      <td>0.345886</td>\n",
       "      <td>0.358717</td>\n",
       "      <td>-0.441890</td>\n",
       "      <td>-0.069372</td>\n",
       "      <td>-0.137706</td>\n",
       "      <td>0.585212</td>\n",
       "      <td>-1.166285</td>\n",
       "      <td>-1.349849</td>\n",
       "      <td>0.345886</td>\n",
       "      <td>0.358717</td>\n",
       "      <td>-0.424098</td>\n",
       "      <td>-0.069372</td>\n",
       "      <td>-0.137706</td>\n",
       "    </tr>\n",
       "    <tr>\n",
       "      <th>2010-01-02 02:00:00</th>\n",
       "      <td>0.585212</td>\n",
       "      <td>-1.166285</td>\n",
       "      <td>-1.349849</td>\n",
       "      <td>0.345886</td>\n",
       "      <td>0.358717</td>\n",
       "      <td>-0.424098</td>\n",
       "      <td>-0.069372</td>\n",
       "      <td>-0.137706</td>\n",
       "      <td>0.704451</td>\n",
       "      <td>-0.889069</td>\n",
       "      <td>-1.431862</td>\n",
       "      <td>0.443244</td>\n",
       "      <td>0.358717</td>\n",
       "      <td>-0.406306</td>\n",
       "      <td>-0.069372</td>\n",
       "      <td>-0.137706</td>\n",
       "    </tr>\n",
       "  </tbody>\n",
       "</table>\n",
       "</div>"
      ],
      "text/plain": [
       "                     var1(t-1)  var2(t-1)  var3(t-1)  var4(t-1)  var5(t-1)  \\\n",
       "date                                                                         \n",
       "2010-01-02 01:00:00   0.379252  -1.235589  -1.349849   0.345886   0.358717   \n",
       "2010-01-02 02:00:00   0.585212  -1.166285  -1.349849   0.345886   0.358717   \n",
       "\n",
       "                     var6(t-1)  var7(t-1)  var8(t-1)   var1(t)   var2(t)  \\\n",
       "date                                                                       \n",
       "2010-01-02 01:00:00  -0.441890  -0.069372  -0.137706  0.585212 -1.166285   \n",
       "2010-01-02 02:00:00  -0.424098  -0.069372  -0.137706  0.704451 -0.889069   \n",
       "\n",
       "                      var3(t)   var4(t)   var5(t)   var6(t)   var7(t)  \\\n",
       "date                                                                    \n",
       "2010-01-02 01:00:00 -1.349849  0.345886  0.358717 -0.424098 -0.069372   \n",
       "2010-01-02 02:00:00 -1.431862  0.443244  0.358717 -0.406306 -0.069372   \n",
       "\n",
       "                      var8(t)  \n",
       "date                           \n",
       "2010-01-02 01:00:00 -0.137706  \n",
       "2010-01-02 02:00:00 -0.137706  "
      ]
     },
     "execution_count": 34,
     "metadata": {},
     "output_type": "execute_result"
    }
   ],
   "source": [
    "# # 实现可以用每个特征的前一个时刻的值预测下一个时刻该特征的值\n",
    "N_IN = 1\n",
    "N_OUT = 1\n",
    "reframed = series_to_supervised(scaled_df, N_IN, N_OUT, dropnan=True)\n",
    "print(reframed.shape)\n",
    "reframed.to_csv(\"./reframed.csv\")\n",
    "reframed.head(2)"
   ]
  },
  {
   "cell_type": "code",
   "execution_count": 35,
   "metadata": {
    "ExecuteTime": {
     "end_time": "2021-01-03T13:46:54.117982Z",
     "start_time": "2021-01-03T13:46:54.054640Z"
    }
   },
   "outputs": [
    {
     "data": {
      "text/html": [
       "<div>\n",
       "<style scoped>\n",
       "    .dataframe tbody tr th:only-of-type {\n",
       "        vertical-align: middle;\n",
       "    }\n",
       "\n",
       "    .dataframe tbody tr th {\n",
       "        vertical-align: top;\n",
       "    }\n",
       "\n",
       "    .dataframe thead th {\n",
       "        text-align: right;\n",
       "    }\n",
       "</style>\n",
       "<table border=\"1\" class=\"dataframe\">\n",
       "  <thead>\n",
       "    <tr style=\"text-align: right;\">\n",
       "      <th></th>\n",
       "      <th>var1(t-1)</th>\n",
       "      <th>var2(t-1)</th>\n",
       "      <th>var3(t-1)</th>\n",
       "      <th>var4(t-1)</th>\n",
       "      <th>var5(t-1)</th>\n",
       "      <th>var6(t-1)</th>\n",
       "      <th>var7(t-1)</th>\n",
       "      <th>var8(t-1)</th>\n",
       "      <th>var1(t)</th>\n",
       "    </tr>\n",
       "    <tr>\n",
       "      <th>date</th>\n",
       "      <th></th>\n",
       "      <th></th>\n",
       "      <th></th>\n",
       "      <th></th>\n",
       "      <th></th>\n",
       "      <th></th>\n",
       "      <th></th>\n",
       "      <th></th>\n",
       "      <th></th>\n",
       "    </tr>\n",
       "  </thead>\n",
       "  <tbody>\n",
       "    <tr>\n",
       "      <th>2010-01-02 01:00:00</th>\n",
       "      <td>0.379252</td>\n",
       "      <td>-1.235589</td>\n",
       "      <td>-1.349849</td>\n",
       "      <td>0.345886</td>\n",
       "      <td>0.358717</td>\n",
       "      <td>-0.441890</td>\n",
       "      <td>-0.069372</td>\n",
       "      <td>-0.137706</td>\n",
       "      <td>0.585212</td>\n",
       "    </tr>\n",
       "    <tr>\n",
       "      <th>2010-01-02 02:00:00</th>\n",
       "      <td>0.585212</td>\n",
       "      <td>-1.166285</td>\n",
       "      <td>-1.349849</td>\n",
       "      <td>0.345886</td>\n",
       "      <td>0.358717</td>\n",
       "      <td>-0.424098</td>\n",
       "      <td>-0.069372</td>\n",
       "      <td>-0.137706</td>\n",
       "      <td>0.704451</td>\n",
       "    </tr>\n",
       "  </tbody>\n",
       "</table>\n",
       "</div>"
      ],
      "text/plain": [
       "                     var1(t-1)  var2(t-1)  var3(t-1)  var4(t-1)  var5(t-1)  \\\n",
       "date                                                                         \n",
       "2010-01-02 01:00:00   0.379252  -1.235589  -1.349849   0.345886   0.358717   \n",
       "2010-01-02 02:00:00   0.585212  -1.166285  -1.349849   0.345886   0.358717   \n",
       "\n",
       "                     var6(t-1)  var7(t-1)  var8(t-1)   var1(t)  \n",
       "date                                                            \n",
       "2010-01-02 01:00:00  -0.441890  -0.069372  -0.137706  0.585212  \n",
       "2010-01-02 02:00:00  -0.424098  -0.069372  -0.137706  0.704451  "
      ]
     },
     "execution_count": 35,
     "metadata": {},
     "output_type": "execute_result"
    }
   ],
   "source": [
    "# 只预测t时刻PM2.5对应的var1(t)列，故：去掉t时刻其他列\n",
    "need_drop = reframed.columns[reframed.columns.str.contains(r\"var[2-8]\\(t\\)\")]\n",
    "reframed = reframed.drop(columns=need_drop)\n",
    "reframed.head(2)"
   ]
  },
  {
   "cell_type": "code",
   "execution_count": 36,
   "metadata": {
    "ExecuteTime": {
     "end_time": "2021-01-03T13:46:54.191379Z",
     "start_time": "2021-01-03T13:46:54.147779Z"
    }
   },
   "outputs": [],
   "source": [
    "# 数据集拆分\n",
    "from sklearn.model_selection import train_test_split"
   ]
  },
  {
   "cell_type": "code",
   "execution_count": 37,
   "metadata": {
    "ExecuteTime": {
     "end_time": "2021-01-03T13:46:54.219485Z",
     "start_time": "2021-01-03T13:46:54.202487Z"
    },
    "code_folding": []
   },
   "outputs": [],
   "source": [
    "data = reframed.values\n",
    "# shuffle=False时，等价于x_train=data[:int(len(data) * 0.8)]\n",
    "x_train, x_test, y_train, y_test = train_test_split(data[:, :-1],\n",
    "                                                    data[:, -1],\n",
    "                                                    shuffle=False, # 不打乱样本顺序\n",
    "                                                    test_size=0.2)"
   ]
  },
  {
   "cell_type": "code",
   "execution_count": 38,
   "metadata": {
    "ExecuteTime": {
     "end_time": "2021-01-03T13:46:54.231752Z",
     "start_time": "2021-01-03T13:46:54.224346Z"
    }
   },
   "outputs": [
    {
     "data": {
      "text/plain": [
       "((35039, 8), (8760,))"
      ]
     },
     "execution_count": 38,
     "metadata": {},
     "output_type": "execute_result"
    }
   ],
   "source": [
    "x_train.shape, y_test.shape"
   ]
  },
  {
   "cell_type": "code",
   "execution_count": 39,
   "metadata": {
    "ExecuteTime": {
     "end_time": "2021-01-03T13:46:54.239649Z",
     "start_time": "2021-01-03T13:46:54.234204Z"
    }
   },
   "outputs": [],
   "source": [
    "# 将数据集重构为符合LSTM要求的数据格式,即 [样本数，时间步，特征]\n",
    "# N_IN = 1\n",
    "# N_OUT = 1\n",
    "N_SAMPLE, N_FEATURE = x_train.shape\n",
    "\n",
    "x_train = x_train.reshape((N_SAMPLE, N_IN, N_FEATURE))\n",
    "x_test= np.expand_dims(x_test, axis=1)"
   ]
  },
  {
   "cell_type": "code",
   "execution_count": 40,
   "metadata": {
    "ExecuteTime": {
     "end_time": "2021-01-03T13:46:54.248831Z",
     "start_time": "2021-01-03T13:46:54.243274Z"
    }
   },
   "outputs": [
    {
     "data": {
      "text/plain": [
       "((35039, 1, 8), (8760, 1, 8))"
      ]
     },
     "execution_count": 40,
     "metadata": {},
     "output_type": "execute_result"
    }
   ],
   "source": [
    "x_train.shape, x_test.shape"
   ]
  },
  {
   "cell_type": "code",
   "execution_count": 41,
   "metadata": {
    "ExecuteTime": {
     "end_time": "2021-01-03T13:46:54.579925Z",
     "start_time": "2021-01-03T13:46:54.252570Z"
    }
   },
   "outputs": [
    {
     "name": "stdout",
     "output_type": "stream",
     "text": [
      "Model: \"sequential\"\n",
      "_________________________________________________________________\n",
      "Layer (type)                 Output Shape              Param #   \n",
      "=================================================================\n",
      "lstm (LSTM)                  (None, 50)                11800     \n",
      "_________________________________________________________________\n",
      "dense (Dense)                (None, 1)                 51        \n",
      "=================================================================\n",
      "Total params: 11,851\n",
      "Trainable params: 11,851\n",
      "Non-trainable params: 0\n",
      "_________________________________________________________________\n"
     ]
    }
   ],
   "source": [
    "# 神经网络模型的建立\n",
    "model = Sequential()\n",
    "model.add(LSTM(50, input_shape=(x_train.shape[1], x_train.shape[2])))\n",
    "model.add(Dense(1))\n",
    "model.summary()"
   ]
  },
  {
   "cell_type": "code",
   "execution_count": 42,
   "metadata": {
    "ExecuteTime": {
     "end_time": "2021-01-03T13:46:54.768596Z",
     "start_time": "2021-01-03T13:46:54.583994Z"
    }
   },
   "outputs": [],
   "source": [
    "# 模型的训练\n",
    "model.compile(optimizer='adam', loss='mse')"
   ]
  },
  {
   "cell_type": "code",
   "execution_count": 43,
   "metadata": {
    "ExecuteTime": {
     "end_time": "2021-01-03T13:48:08.034769Z",
     "start_time": "2021-01-03T13:46:54.774074Z"
    },
    "scrolled": true
   },
   "outputs": [
    {
     "name": "stdout",
     "output_type": "stream",
     "text": [
      "Epoch 1/100\n",
      "548/548 [==============================] - 4s 4ms/step - loss: 0.4817 - val_loss: 0.0763\n",
      "Epoch 2/100\n",
      "548/548 [==============================] - 1s 2ms/step - loss: 0.1097 - val_loss: 0.0720\n",
      "Epoch 3/100\n",
      "548/548 [==============================] - 1s 2ms/step - loss: 0.1057 - val_loss: 0.0713\n",
      "Epoch 4/100\n",
      "548/548 [==============================] - 1s 2ms/step - loss: 0.1044 - val_loss: 0.0710\n",
      "Epoch 5/100\n",
      "548/548 [==============================] - 1s 2ms/step - loss: 0.1037 - val_loss: 0.0712\n",
      "Epoch 6/100\n",
      "548/548 [==============================] - 1s 2ms/step - loss: 0.1033 - val_loss: 0.0716\n",
      "Epoch 7/100\n",
      "548/548 [==============================] - 1s 2ms/step - loss: 0.1032 - val_loss: 0.0721\n",
      "Epoch 8/100\n",
      "548/548 [==============================] - 1s 2ms/step - loss: 0.1023 - val_loss: 0.0692\n",
      "Epoch 9/100\n",
      "548/548 [==============================] - 1s 2ms/step - loss: 0.1021 - val_loss: 0.0690\n",
      "Epoch 10/100\n",
      "548/548 [==============================] - 1s 2ms/step - loss: 0.1017 - val_loss: 0.0690\n",
      "Epoch 11/100\n",
      "548/548 [==============================] - 1s 2ms/step - loss: 0.1016 - val_loss: 0.0689\n",
      "Epoch 12/100\n",
      "548/548 [==============================] - 1s 2ms/step - loss: 0.1015 - val_loss: 0.0688\n",
      "Epoch 13/100\n",
      "548/548 [==============================] - 1s 2ms/step - loss: 0.1015 - val_loss: 0.0687\n",
      "Epoch 14/100\n",
      "548/548 [==============================] - 1s 2ms/step - loss: 0.1015 - val_loss: 0.0687\n",
      "Epoch 15/100\n",
      "548/548 [==============================] - 1s 2ms/step - loss: 0.1015 - val_loss: 0.0686\n",
      "Epoch 16/100\n",
      "548/548 [==============================] - 1s 2ms/step - loss: 0.1014 - val_loss: 0.0685\n",
      "Epoch 17/100\n",
      "548/548 [==============================] - 1s 2ms/step - loss: 0.1014 - val_loss: 0.0685\n",
      "Epoch 18/100\n",
      "548/548 [==============================] - 1s 2ms/step - loss: 0.1014 - val_loss: 0.0684\n",
      "Epoch 19/100\n",
      "548/548 [==============================] - 1s 2ms/step - loss: 0.1014 - val_loss: 0.0683\n",
      "Epoch 20/100\n",
      "548/548 [==============================] - 1s 2ms/step - loss: 0.1014 - val_loss: 0.0683\n",
      "Epoch 21/100\n",
      "548/548 [==============================] - 1s 2ms/step - loss: 0.1013 - val_loss: 0.0682\n",
      "Epoch 22/100\n",
      "548/548 [==============================] - 1s 2ms/step - loss: 0.1013 - val_loss: 0.0681\n",
      "Epoch 23/100\n",
      "548/548 [==============================] - 1s 2ms/step - loss: 0.1013 - val_loss: 0.0681\n",
      "Epoch 24/100\n",
      "548/548 [==============================] - 1s 2ms/step - loss: 0.1013 - val_loss: 0.0680\n",
      "Epoch 25/100\n",
      "548/548 [==============================] - 1s 2ms/step - loss: 0.1013 - val_loss: 0.0680\n",
      "Epoch 26/100\n",
      "548/548 [==============================] - 1s 2ms/step - loss: 0.1013 - val_loss: 0.0679\n",
      "Epoch 27/100\n",
      "548/548 [==============================] - 1s 2ms/step - loss: 0.1012 - val_loss: 0.0678\n",
      "Epoch 28/100\n",
      "548/548 [==============================] - 1s 3ms/step - loss: 0.1012 - val_loss: 0.0678\n",
      "Epoch 29/100\n",
      "548/548 [==============================] - 1s 2ms/step - loss: 0.1012 - val_loss: 0.0677\n",
      "Epoch 30/100\n",
      "548/548 [==============================] - 1s 2ms/step - loss: 0.1012 - val_loss: 0.0676\n",
      "Epoch 31/100\n",
      "548/548 [==============================] - 1s 2ms/step - loss: 0.1011 - val_loss: 0.0676\n",
      "Epoch 32/100\n",
      "548/548 [==============================] - 1s 2ms/step - loss: 0.1011 - val_loss: 0.0675\n",
      "Epoch 33/100\n",
      "548/548 [==============================] - 1s 2ms/step - loss: 0.1011 - val_loss: 0.0674\n",
      "Epoch 34/100\n",
      "548/548 [==============================] - 1s 2ms/step - loss: 0.1010 - val_loss: 0.0673\n",
      "Epoch 35/100\n",
      "548/548 [==============================] - 1s 2ms/step - loss: 0.1010 - val_loss: 0.0673\n",
      "Epoch 36/100\n",
      "548/548 [==============================] - 1s 2ms/step - loss: 0.1009 - val_loss: 0.0672\n",
      "Epoch 37/100\n",
      "548/548 [==============================] - 1s 2ms/step - loss: 0.1009 - val_loss: 0.0671\n",
      "Epoch 38/100\n",
      "548/548 [==============================] - 1s 2ms/step - loss: 0.1009 - val_loss: 0.0670\n",
      "Epoch 39/100\n",
      "548/548 [==============================] - 1s 2ms/step - loss: 0.1008 - val_loss: 0.0670\n",
      "Epoch 40/100\n",
      "548/548 [==============================] - 1s 2ms/step - loss: 0.1008 - val_loss: 0.0669\n",
      "Epoch 41/100\n",
      "548/548 [==============================] - 1s 2ms/step - loss: 0.1007 - val_loss: 0.0668\n",
      "Epoch 42/100\n",
      "548/548 [==============================] - 1s 2ms/step - loss: 0.1007 - val_loss: 0.0668\n",
      "Epoch 43/100\n",
      "548/548 [==============================] - 1s 2ms/step - loss: 0.1006 - val_loss: 0.0667\n",
      "Epoch 44/100\n",
      "548/548 [==============================] - 1s 2ms/step - loss: 0.1006 - val_loss: 0.0667\n",
      "Epoch 45/100\n",
      "548/548 [==============================] - 1s 2ms/step - loss: 0.1006 - val_loss: 0.0667\n",
      "Epoch 46/100\n",
      "548/548 [==============================] - 1s 2ms/step - loss: 0.1005 - val_loss: 0.0666\n",
      "Epoch 47/100\n",
      "548/548 [==============================] - 1s 2ms/step - loss: 0.1005 - val_loss: 0.0666\n",
      "Epoch 48/100\n",
      "548/548 [==============================] - 1s 2ms/step - loss: 0.1005 - val_loss: 0.0666\n",
      "Epoch 49/100\n",
      "548/548 [==============================] - 1s 2ms/step - loss: 0.1005 - val_loss: 0.0665\n",
      "Epoch 50/100\n",
      "548/548 [==============================] - 1s 2ms/step - loss: 0.1003 - val_loss: 0.0663\n",
      "Epoch 51/100\n",
      "548/548 [==============================] - 1s 2ms/step - loss: 0.1001 - val_loss: 0.0663\n",
      "Epoch 52/100\n",
      "548/548 [==============================] - 1s 2ms/step - loss: 0.1000 - val_loss: 0.0663\n",
      "Epoch 53/100\n",
      "548/548 [==============================] - 1s 2ms/step - loss: 0.1000 - val_loss: 0.0663\n",
      "Epoch 54/100\n",
      "548/548 [==============================] - 1s 2ms/step - loss: 0.0999 - val_loss: 0.0663\n",
      "Epoch 55/100\n",
      "548/548 [==============================] - 1s 3ms/step - loss: 0.0999 - val_loss: 0.0663\n",
      "Epoch 56/100\n",
      "548/548 [==============================] - 1s 3ms/step - loss: 0.0999 - val_loss: 0.0663\n",
      "Epoch 57/100\n",
      "548/548 [==============================] - 1s 2ms/step - loss: 0.0999 - val_loss: 0.0663\n",
      "Epoch 58/100\n",
      "548/548 [==============================] - 1s 2ms/step - loss: 0.0998 - val_loss: 0.0663\n",
      "Epoch 59/100\n",
      "548/548 [==============================] - 1s 2ms/step - loss: 0.0998 - val_loss: 0.0663\n",
      "Epoch 60/100\n",
      "548/548 [==============================] - 1s 2ms/step - loss: 0.0998 - val_loss: 0.0663\n",
      "Epoch 61/100\n",
      "548/548 [==============================] - 1s 2ms/step - loss: 0.0998 - val_loss: 0.0663\n",
      "Epoch 62/100\n",
      "548/548 [==============================] - 1s 2ms/step - loss: 0.0998 - val_loss: 0.0663\n",
      "Epoch 63/100\n",
      "548/548 [==============================] - 1s 2ms/step - loss: 0.0998 - val_loss: 0.0663\n",
      "Epoch 64/100\n",
      "548/548 [==============================] - 1s 2ms/step - loss: 0.0998 - val_loss: 0.0663 ETA: 0s - loss: 0.100\n"
     ]
    }
   ],
   "source": [
    "model_path = \"./save_model/lstm_training_standard2.h5\"  # 这个是保存模型的路径\n",
    "callback_list = []\n",
    "early_stopping = tf.keras.callbacks.EarlyStopping(monitor='val_loss',\n",
    "                                                  mode='min',\n",
    "                                                  patience=5,\n",
    "                                                  restore_best_weights=False,\n",
    "                                                  verbose=False)\n",
    "callback_list.append(early_stopping)\n",
    "reduce_lr = tf.keras.callbacks.ReduceLROnPlateau(monitor='val_loss',\n",
    "                                                 mode='min',\n",
    "                                                 factor=0.3,\n",
    "                                                 patience=3,\n",
    "                                                 verbose=False)\n",
    "callback_list.append(reduce_lr)\n",
    "\n",
    "if os.path.exists(model_path):\n",
    "    # 加载保存的模型，h5格式加载后可以继续训练\n",
    "    checkpoint = tf.keras.callbacks.ModelCheckpoint(\n",
    "        model_path,\n",
    "        monitor='val_loss',\n",
    "        verbose=True,\n",
    "        save_best_only=True,\n",
    "        save_weights_only=True)\n",
    "    callback_list.append(checkpoint)\n",
    "    \n",
    "history = model.fit(x_train,\n",
    "                    y_train,\n",
    "                    batch_size=64,\n",
    "                    epochs=100,\n",
    "                    shuffle=False,\n",
    "                    validation_data=(x_test, y_test), callbacks=callback_list)"
   ]
  },
  {
   "cell_type": "markdown",
   "metadata": {
    "ExecuteTime": {
     "end_time": "2021-01-02T17:46:23.643392Z",
     "start_time": "2021-01-02T17:46:23.636431Z"
    }
   },
   "source": [
    "如果我们对`PM2.5`的列进行了无量纲化，那预测出来的结果也会是无量纲化后的值，而不是真实`PM2.5`的值。需要反无量纲化"
   ]
  },
  {
   "cell_type": "code",
   "execution_count": 45,
   "metadata": {
    "ExecuteTime": {
     "end_time": "2021-01-03T13:48:08.357121Z",
     "start_time": "2021-01-03T13:48:08.045166Z"
    }
   },
   "outputs": [
    {
     "data": {
      "image/png": "[encoded data removed]",
      "text/plain": [
       "<Figure size 1152x288 with 1 Axes>"
      ]
     },
     "metadata": {},
     "output_type": "display_data"
    }
   ],
   "source": [
    "# 可视化LOSS曲线\n",
    "train_loss = history.history['loss']\n",
    "val_loss = history.history['val_loss']\n",
    "plt.figure(figsize=(16, 4))\n",
    "x = list(range(len(train_loss)))\n",
    "plt.plot(x[2:], train_loss[2:], 'o--g', label='Train Loss')\n",
    "plt.plot(x[2:], val_loss[2:], 's--r', label='Test Loss')\n",
    "plt.legend(loc='best')\n",
    "plt.show()"
   ]
  },
  {
   "cell_type": "code",
   "execution_count": 46,
   "metadata": {
    "ExecuteTime": {
     "end_time": "2021-01-03T13:48:08.366619Z",
     "start_time": "2021-01-03T13:48:08.360784Z"
    }
   },
   "outputs": [],
   "source": [
    "# 呈现原始数据，训练结果，预测结果\n",
    "def plot_img(all_true, train_pred, test_pred):\n",
    "    plt.figure(figsize=(16, 8))\n",
    "    all_x = list(range(len(all_true)))\n",
    "    train_x = all_x[:len(train_pred)]\n",
    "    test_x = all_x[-len(test_pred):]\n",
    "    # 原始数据蓝色\n",
    "    plt.scatter(all_x, all_true, marker='.', label='Real', c='#4285F4')\n",
    "    # 训练数据橙色\n",
    "    plt.scatter(train_x,\n",
    "                train_pred,\n",
    "                marker='.',\n",
    "                label='Train Predict',\n",
    "                c='#FBBC05')\n",
    "    # 预测结果红色\n",
    "    plt.scatter(test_x,\n",
    "                test_pred,\n",
    "                marker='.',\n",
    "                label='Test Predict',\n",
    "                c='#EA4335')\n",
    "    plt.legend()\n",
    "    plt.show()"
   ]
  },
  {
   "cell_type": "code",
   "execution_count": 47,
   "metadata": {
    "ExecuteTime": {
     "end_time": "2021-01-03T13:48:09.824119Z",
     "start_time": "2021-01-03T13:48:08.369867Z"
    }
   },
   "outputs": [],
   "source": [
    "train_pred = model.predict(x_train)\n",
    "test_pred = model.predict(x_test)"
   ]
  },
  {
   "cell_type": "code",
   "execution_count": 48,
   "metadata": {
    "ExecuteTime": {
     "end_time": "2021-01-03T13:48:09.839980Z",
     "start_time": "2021-01-03T13:48:09.826329Z"
    }
   },
   "outputs": [
    {
     "data": {
      "text/plain": [
       "((35039, 1), (8760, 1))"
      ]
     },
     "execution_count": 48,
     "metadata": {},
     "output_type": "execute_result"
    }
   ],
   "source": [
    "train_pred.shape, test_pred.shape"
   ]
  },
  {
   "cell_type": "code",
   "execution_count": 49,
   "metadata": {
    "ExecuteTime": {
     "end_time": "2021-01-03T13:48:09.871740Z",
     "start_time": "2021-01-03T13:48:09.849817Z"
    }
   },
   "outputs": [
    {
     "data": {
      "text/plain": [
       "(-1.0710366, -0.9949685)"
      ]
     },
     "execution_count": 49,
     "metadata": {},
     "output_type": "execute_result"
    }
   ],
   "source": [
    "train_pred.min(), test_pred.min()"
   ]
  },
  {
   "cell_type": "code",
   "execution_count": 51,
   "metadata": {
    "ExecuteTime": {
     "end_time": "2021-01-03T13:48:09.968050Z",
     "start_time": "2021-01-03T13:48:09.959136Z"
    }
   },
   "outputs": [],
   "source": [
    "# 将预测值反归一化\n",
    "train_pred_ = pollution_scaler.inverse_transform(train_pred)\n",
    "test_pred_ = pollution_scaler.inverse_transform(test_pred)\n",
    "# 将预测值限幅在0-994（pollution列的最大最小值）之间。\n",
    "train_pred_ = np.clip(train_pred_, 0, 994)\n",
    "test_pred_ = np.clip(test_pred_, 0, 994)"
   ]
  },
  {
   "cell_type": "code",
   "execution_count": 52,
   "metadata": {
    "ExecuteTime": {
     "end_time": "2021-01-03T13:48:10.006754Z",
     "start_time": "2021-01-03T13:48:09.974099Z"
    }
   },
   "outputs": [
    {
     "data": {
      "text/html": [
       "<div>\n",
       "<style scoped>\n",
       "    .dataframe tbody tr th:only-of-type {\n",
       "        vertical-align: middle;\n",
       "    }\n",
       "\n",
       "    .dataframe tbody tr th {\n",
       "        vertical-align: top;\n",
       "    }\n",
       "\n",
       "    .dataframe thead th {\n",
       "        text-align: right;\n",
       "    }\n",
       "</style>\n",
       "<table border=\"1\" class=\"dataframe\">\n",
       "  <thead>\n",
       "    <tr style=\"text-align: right;\">\n",
       "      <th></th>\n",
       "      <th>0</th>\n",
       "    </tr>\n",
       "  </thead>\n",
       "  <tbody>\n",
       "    <tr>\n",
       "      <th>count</th>\n",
       "      <td>35039.000000</td>\n",
       "    </tr>\n",
       "    <tr>\n",
       "      <th>mean</th>\n",
       "      <td>93.323402</td>\n",
       "    </tr>\n",
       "    <tr>\n",
       "      <th>std</th>\n",
       "      <td>87.765724</td>\n",
       "    </tr>\n",
       "    <tr>\n",
       "      <th>min</th>\n",
       "      <td>0.000000</td>\n",
       "    </tr>\n",
       "    <tr>\n",
       "      <th>25%</th>\n",
       "      <td>25.809002</td>\n",
       "    </tr>\n",
       "    <tr>\n",
       "      <th>50%</th>\n",
       "      <td>67.662315</td>\n",
       "    </tr>\n",
       "    <tr>\n",
       "      <th>75%</th>\n",
       "      <td>131.272751</td>\n",
       "    </tr>\n",
       "    <tr>\n",
       "      <th>max</th>\n",
       "      <td>766.053040</td>\n",
       "    </tr>\n",
       "  </tbody>\n",
       "</table>\n",
       "</div>"
      ],
      "text/plain": [
       "                  0\n",
       "count  35039.000000\n",
       "mean      93.323402\n",
       "std       87.765724\n",
       "min        0.000000\n",
       "25%       25.809002\n",
       "50%       67.662315\n",
       "75%      131.272751\n",
       "max      766.053040"
      ]
     },
     "execution_count": 52,
     "metadata": {},
     "output_type": "execute_result"
    }
   ],
   "source": [
    "pd.DataFrame(train_pred_).describe()"
   ]
  },
  {
   "cell_type": "code",
   "execution_count": 53,
   "metadata": {
    "ExecuteTime": {
     "end_time": "2021-01-03T13:48:10.049313Z",
     "start_time": "2021-01-03T13:48:10.016339Z"
    }
   },
   "outputs": [
    {
     "data": {
      "text/html": [
       "<div>\n",
       "<style scoped>\n",
       "    .dataframe tbody tr th:only-of-type {\n",
       "        vertical-align: middle;\n",
       "    }\n",
       "\n",
       "    .dataframe tbody tr th {\n",
       "        vertical-align: top;\n",
       "    }\n",
       "\n",
       "    .dataframe thead th {\n",
       "        text-align: right;\n",
       "    }\n",
       "</style>\n",
       "<table border=\"1\" class=\"dataframe\">\n",
       "  <thead>\n",
       "    <tr style=\"text-align: right;\">\n",
       "      <th></th>\n",
       "      <th>0</th>\n",
       "    </tr>\n",
       "  </thead>\n",
       "  <tbody>\n",
       "    <tr>\n",
       "      <th>count</th>\n",
       "      <td>8760.000000</td>\n",
       "    </tr>\n",
       "    <tr>\n",
       "      <th>mean</th>\n",
       "      <td>96.510475</td>\n",
       "    </tr>\n",
       "    <tr>\n",
       "      <th>std</th>\n",
       "      <td>89.515602</td>\n",
       "    </tr>\n",
       "    <tr>\n",
       "      <th>min</th>\n",
       "      <td>2.226460</td>\n",
       "    </tr>\n",
       "    <tr>\n",
       "      <th>25%</th>\n",
       "      <td>31.022303</td>\n",
       "    </tr>\n",
       "    <tr>\n",
       "      <th>50%</th>\n",
       "      <td>71.078270</td>\n",
       "    </tr>\n",
       "    <tr>\n",
       "      <th>75%</th>\n",
       "      <td>130.388401</td>\n",
       "    </tr>\n",
       "    <tr>\n",
       "      <th>max</th>\n",
       "      <td>601.616943</td>\n",
       "    </tr>\n",
       "  </tbody>\n",
       "</table>\n",
       "</div>"
      ],
      "text/plain": [
       "                 0\n",
       "count  8760.000000\n",
       "mean     96.510475\n",
       "std      89.515602\n",
       "min       2.226460\n",
       "25%      31.022303\n",
       "50%      71.078270\n",
       "75%     130.388401\n",
       "max     601.616943"
      ]
     },
     "execution_count": 53,
     "metadata": {},
     "output_type": "execute_result"
    }
   ],
   "source": [
    "pd.DataFrame(test_pred_).describe()"
   ]
  },
  {
   "cell_type": "code",
   "execution_count": 54,
   "metadata": {
    "ExecuteTime": {
     "end_time": "2021-01-03T13:48:10.082312Z",
     "start_time": "2021-01-03T13:48:10.055670Z"
    }
   },
   "outputs": [
    {
     "data": {
      "text/html": [
       "<div>\n",
       "<style scoped>\n",
       "    .dataframe tbody tr th:only-of-type {\n",
       "        vertical-align: middle;\n",
       "    }\n",
       "\n",
       "    .dataframe tbody tr th {\n",
       "        vertical-align: top;\n",
       "    }\n",
       "\n",
       "    .dataframe thead th {\n",
       "        text-align: right;\n",
       "    }\n",
       "</style>\n",
       "<table border=\"1\" class=\"dataframe\">\n",
       "  <thead>\n",
       "    <tr style=\"text-align: right;\">\n",
       "      <th></th>\n",
       "      <th>0</th>\n",
       "    </tr>\n",
       "  </thead>\n",
       "  <tbody>\n",
       "    <tr>\n",
       "      <th>count</th>\n",
       "      <td>43799.000000</td>\n",
       "    </tr>\n",
       "    <tr>\n",
       "      <th>mean</th>\n",
       "      <td>94.012717</td>\n",
       "    </tr>\n",
       "    <tr>\n",
       "      <th>std</th>\n",
       "      <td>92.253178</td>\n",
       "    </tr>\n",
       "    <tr>\n",
       "      <th>min</th>\n",
       "      <td>0.000000</td>\n",
       "    </tr>\n",
       "    <tr>\n",
       "      <th>25%</th>\n",
       "      <td>24.000000</td>\n",
       "    </tr>\n",
       "    <tr>\n",
       "      <th>50%</th>\n",
       "      <td>68.000000</td>\n",
       "    </tr>\n",
       "    <tr>\n",
       "      <th>75%</th>\n",
       "      <td>132.500000</td>\n",
       "    </tr>\n",
       "    <tr>\n",
       "      <th>max</th>\n",
       "      <td>994.000000</td>\n",
       "    </tr>\n",
       "  </tbody>\n",
       "</table>\n",
       "</div>"
      ],
      "text/plain": [
       "                  0\n",
       "count  43799.000000\n",
       "mean      94.012717\n",
       "std       92.253178\n",
       "min        0.000000\n",
       "25%       24.000000\n",
       "50%       68.000000\n",
       "75%      132.500000\n",
       "max      994.000000"
      ]
     },
     "execution_count": 54,
     "metadata": {},
     "output_type": "execute_result"
    }
   ],
   "source": [
    "# 将归一化的真实值反归一化\n",
    "all_true = pollution_scaler.inverse_transform(reframed[['var1(t)']])[:, 0]\n",
    "pd.DataFrame(all_true).describe()"
   ]
  },
  {
   "cell_type": "code",
   "execution_count": 60,
   "metadata": {
    "ExecuteTime": {
     "end_time": "2021-01-03T13:48:11.472942Z",
     "start_time": "2021-01-03T13:48:11.451011Z"
    }
   },
   "outputs": [
    {
     "data": {
      "text/html": [
       "<div>\n",
       "<style scoped>\n",
       "    .dataframe tbody tr th:only-of-type {\n",
       "        vertical-align: middle;\n",
       "    }\n",
       "\n",
       "    .dataframe tbody tr th {\n",
       "        vertical-align: top;\n",
       "    }\n",
       "\n",
       "    .dataframe thead th {\n",
       "        text-align: right;\n",
       "    }\n",
       "</style>\n",
       "<table border=\"1\" class=\"dataframe\">\n",
       "  <thead>\n",
       "    <tr style=\"text-align: right;\">\n",
       "      <th></th>\n",
       "      <th>0</th>\n",
       "    </tr>\n",
       "  </thead>\n",
       "  <tbody>\n",
       "    <tr>\n",
       "      <th>count</th>\n",
       "      <td>43799.000000</td>\n",
       "    </tr>\n",
       "    <tr>\n",
       "      <th>mean</th>\n",
       "      <td>93.960831</td>\n",
       "    </tr>\n",
       "    <tr>\n",
       "      <th>std</th>\n",
       "      <td>88.126678</td>\n",
       "    </tr>\n",
       "    <tr>\n",
       "      <th>min</th>\n",
       "      <td>0.000000</td>\n",
       "    </tr>\n",
       "    <tr>\n",
       "      <th>25%</th>\n",
       "      <td>26.815079</td>\n",
       "    </tr>\n",
       "    <tr>\n",
       "      <th>50%</th>\n",
       "      <td>68.317612</td>\n",
       "    </tr>\n",
       "    <tr>\n",
       "      <th>75%</th>\n",
       "      <td>131.112389</td>\n",
       "    </tr>\n",
       "    <tr>\n",
       "      <th>max</th>\n",
       "      <td>766.053040</td>\n",
       "    </tr>\n",
       "  </tbody>\n",
       "</table>\n",
       "</div>"
      ],
      "text/plain": [
       "                  0\n",
       "count  43799.000000\n",
       "mean      93.960831\n",
       "std       88.126678\n",
       "min        0.000000\n",
       "25%       26.815079\n",
       "50%       68.317612\n",
       "75%      131.112389\n",
       "max      766.053040"
      ]
     },
     "execution_count": 60,
     "metadata": {},
     "output_type": "execute_result"
    }
   ],
   "source": [
    "pd.DataFrame(y_pred).describe()"
   ]
  },
  {
   "cell_type": "code",
   "execution_count": 62,
   "metadata": {
    "ExecuteTime": {
     "end_time": "2021-01-03T13:48:12.267789Z",
     "start_time": "2021-01-03T13:48:11.489249Z"
    }
   },
   "outputs": [
    {
     "data": {
      "text/plain": [
       "<matplotlib.legend.Legend at 0x7fa846870190>"
      ]
     },
     "execution_count": 62,
     "metadata": {},
     "output_type": "execute_result"
    },
    {
     "data": {
      "image/png": "[encoded data removed]",
      "text/plain": [
       "<Figure size 1152x288 with 1 Axes>"
      ]
     },
     "metadata": {},
     "output_type": "display_data"
    }
   ],
   "source": [
    "# 按真实值由小到大排序后真实值和预测值可视化\n",
    "n = len(all_true)\n",
    "plt.figure(figsize=(16, 4))\n",
    "plt.scatter(range(n), y_pred[np.argsort(all_true), 0],c='r', marker='.',label='Predict')\n",
    "plt.plot(range(n), np.sort(all_true),c='cyan', label='True')\n",
    "plt.legend()"
   ]
  },
  {
   "cell_type": "markdown",
   "metadata": {},
   "source": [
    "趋势相近，但误差较大"
   ]
  }
 ],
 "metadata": {
  "kernelspec": {
   "display_name": "Python 3",
   "language": "python",
   "name": "python3"
  },
  "language_info": {
   "codemirror_mode": {
    "name": "ipython",
    "version": 3
   },
   "file_extension": ".py",
   "mimetype": "text/x-python",
   "name": "python",
   "nbconvert_exporter": "python",
   "pygments_lexer": "ipython3",
   "version": "3.7.4"
  },
  "nbTranslate": {
   "displayLangs": [
    "*"
   ],
   "hotkey": "alt-t",
   "langInMainMenu": true,
   "sourceLang": "en",
   "targetLang": "fr",
   "useGoogleTranslate": true
  },
  "toc": {
   "base_numbering": 1,
   "nav_menu": {},
   "number_sections": false,
   "sideBar": true,
   "skip_h1_title": false,
   "title_cell": "Table of Contents",
   "title_sidebar": "Contents",
   "toc_cell": true,
   "toc_position": {
    "height": "calc(100% - 180px)",
    "left": "10px",
    "top": "150px",
    "width": "130.895px"
   },
   "toc_section_display": true,
   "toc_window_display": true
  },
  "varInspector": {
   "cols": {
    "lenName": 16,
    "lenType": 16,
    "lenVar": 40
   },
   "kernels_config": {
    "python": {
     "delete_cmd_postfix": "",
     "delete_cmd_prefix": "del ",
     "library": "var_list.py",
     "varRefreshCmd": "print(var_dic_list())"
    },
    "r": {
     "delete_cmd_postfix": ") ",
     "delete_cmd_prefix": "rm(",
     "library": "var_list.r",
     "varRefreshCmd": "cat(var_dic_list()) "
    }
   },
   "types_to_exclude": [
    "module",
    "function",
    "builtin_function_or_method",
    "instance",
    "_Feature"
   ],
   "window_display": false
  }
 },
 "nbformat": 4,
 "nbformat_minor": 4
}
